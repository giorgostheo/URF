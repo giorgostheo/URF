{
 "cells": [
  {
   "cell_type": "code",
   "execution_count": 10,
   "metadata": {},
   "outputs": [],
   "source": [
    "from shapely.geometry import LineString, Point, MultiPoint, Polygon\n",
    "\n",
    "import warnings\n",
    "warnings.filterwarnings(\"ignore\")\n",
    "\n",
    "import pandas as pd\n",
    "import geopandas as gpd\n",
    "import numpy as np\n",
    "from datetime import datetime\n",
    "from shapely.geometry import LineString, Point, MultiPoint, Polygon\n",
    "from IPython.display import display, clear_output\n",
    "\n",
    "\n",
    "path_to_data = gpd.datasets.get_path(\"nybb\")\n",
    "gdf = gpd.read_file(path_to_data)\n",
    "manh = gdf.loc[gdf.BoroName=='Manhattan'].to_crs(4326)\n",
    "\n",
    "roads = gpd.read_file('data/nyc_roads/geo_export_05dcab6d-50ed-427f-aae3-61ecc2069210.shp', mask=manh)[['trafdir', 'geometry']]"
   ]
  },
  {
   "cell_type": "code",
   "execution_count": 11,
   "metadata": {},
   "outputs": [],
   "source": [
    "notw = roads[roads.trafdir!='TW']"
   ]
  },
  {
   "cell_type": "code",
   "execution_count": 12,
   "metadata": {},
   "outputs": [],
   "source": [
    "tw = roads[roads.trafdir=='TW']"
   ]
  },
  {
   "cell_type": "code",
   "execution_count": 14,
   "metadata": {},
   "outputs": [],
   "source": [
    "notw = roads[roads.trafdir!='TW']\n",
    "tw = roads[roads.trafdir=='TW']\n",
    "tw['trafdir'] = 'TF'\n",
    "tw2 = tw.copy()\n",
    "tw2['trafdir'] = 'FT'\n",
    "roadsv2 = pd.concat([notw, tw, tw2])\n",
    "roadsv2 = roadsv2.loc[roadsv2.trafdir!='NV'].reset_index(drop=True)\n",
    "sps = []\n",
    "eps = []\n",
    "for _,road in roadsv2.iterrows():\n",
    "    if road.trafdir == 'FT':\n",
    "        sps.append(road.geometry.boundary[0]) \n",
    "        eps.append(road.geometry.boundary[1]) \n",
    "\n",
    "    elif road.trafdir == 'TF':\n",
    "        sps.append(road.geometry.boundary[1]) \n",
    "        eps.append(road.geometry.boundary[0]) "
   ]
  },
  {
   "cell_type": "code",
   "execution_count": 22,
   "metadata": {},
   "outputs": [],
   "source": [
    "def meanpoints(lst, default):\n",
    "    if len(lst)==0:\n",
    "        print('same')\n",
    "        return default\n",
    "    else:\n",
    "        return Point(np.mean([[a.x, a.y] for a in lst], axis=0))\n",
    "\n",
    "roadsv2 = pd.concat([notw, tw, tw2])\n",
    "roadsv2 = roadsv2.loc[roadsv2.trafdir!='NV'].reset_index(drop=True)\n",
    "sps = []\n",
    "eps = []\n",
    "for _,road in roadsv2.iterrows():\n",
    "    if road.trafdir == 'FT':\n",
    "        sps.append(road.geometry.boundary[0]) \n",
    "        eps.append(road.geometry.boundary[1]) \n",
    "\n",
    "    elif road.trafdir == 'TF':\n",
    "        sps.append(road.geometry.boundary[1]) \n",
    "        eps.append(road.geometry.boundary[0]) \n",
    "\n",
    "starts = gpd.GeoDataFrame(geometry=roadsv2.start, crs=4326)\n",
    "starts['label'] = 'start'\n",
    "stops = gpd.GeoDataFrame(geometry=roadsv2.end, crs=4326)\n",
    "stops['label'] = 'end'\n",
    "\n",
    "sall = pd.concat([starts, stops])\n",
    "X = sall.geometry.apply(lambda a: np.array([a.x, a.y]))\n",
    "X = np.vstack([val for val in X.values])\n",
    "\n",
    "from sklearn.cluster import DBSCAN\n",
    "import numpy as np\n",
    "\n",
    "\n",
    "clustering = DBSCAN(eps=1e-4, min_samples=2).fit(X)\n",
    "sall['cls'] = clustering.labels_\n",
    "\n",
    "pnts = gpd.GeoSeries(sall.groupby('cls').apply(lambda a: meanpoints(a.geometry.tolist(),0))[1:], crs=4326)\n",
    "\n",
    "for i in tqdm(range(len(roadsv2))):\n",
    "    start_p = sall.loc[i].iloc[0].cls\n",
    "    end_p = sall.loc[i].iloc[1].cls\n",
    "    # break\n",
    "    roadsv2.loc[i, 'start2'] = start_p\n",
    "    roadsv2.loc[i, 'end2'] = end_p\n",
    "\n",
    "rds = roadsv2.loc[(roadsv2.start2!=-1) & (roadsv2.end2!=-1)]\n",
    "rds['weights'] = rds.apply(lambda a: pnts[a.start2].distance(pnts[a.end2]), axis=1)\n",
    "\n",
    "\n",
    "rds = rds.drop(['geometry'], axis=1)\n",
    "rds.rename({'start2':'start_id', 'end2':'end_id'}, axis=1, inplace=True)\n",
    "rds.to_pickle('roadsfornx.pkl')\n",
    "pnts.to_pickle('reps.pkl')"
   ]
  },
  {
   "cell_type": "code",
   "execution_count": 89,
   "metadata": {},
   "outputs": [],
   "source": [
    "starts = gpd.GeoDataFrame(geometry=roadsv2.start, crs=4326)\n",
    "starts['label'] = 'start'\n",
    "stops = gpd.GeoDataFrame(geometry=roadsv2.end, crs=4326)\n",
    "stops['label'] = 'end'"
   ]
  },
  {
   "cell_type": "code",
   "execution_count": 193,
   "metadata": {},
   "outputs": [],
   "source": [
    "sall = pd.concat([starts, stops])\n"
   ]
  },
  {
   "cell_type": "code",
   "execution_count": 202,
   "metadata": {},
   "outputs": [],
   "source": [
    "X = sall.geometry.apply(lambda a: np.array([a.x, a.y]))"
   ]
  },
  {
   "cell_type": "code",
   "execution_count": 207,
   "metadata": {},
   "outputs": [],
   "source": [
    "X = np.vstack([val for val in X.values])"
   ]
  },
  {
   "cell_type": "code",
   "execution_count": 185,
   "metadata": {},
   "outputs": [],
   "source": [
    "\n",
    "def meanpoints(lst, default):\n",
    "    if len(lst)==0:\n",
    "        print('same')\n",
    "        return default\n",
    "    else:\n",
    "        return Point(np.mean([[a.x, a.y] for a in lst], axis=0))"
   ]
  },
  {
   "cell_type": "code",
   "execution_count": 214,
   "metadata": {},
   "outputs": [],
   "source": [
    "from sklearn.cluster import DBSCAN\n",
    "import numpy as np\n",
    "# X = np.array([[1, 2], [2, 2], [2, 3],\n",
    "#               [8, 7], [8, 8], [25, 80]])\n",
    "clustering = DBSCAN(eps=1e-4, min_samples=2).fit(X)\n",
    "sall['cls'] = clustering.labels_"
   ]
  },
  {
   "cell_type": "code",
   "execution_count": 223,
   "metadata": {},
   "outputs": [],
   "source": [
    "pnts = gpd.GeoSeries(sall.groupby('cls').apply(lambda a: meanpoints(a.geometry.tolist(),0))[1:], crs=4326)"
   ]
  },
  {
   "cell_type": "code",
   "execution_count": 248,
   "metadata": {},
   "outputs": [
    {
     "data": {
      "application/vnd.jupyter.widget-view+json": {
       "model_id": "a1daaeb1b77c4a96b0ad2e237c7e2e29",
       "version_major": 2,
       "version_minor": 0
      },
      "text/plain": [
       "  0%|          | 0/13665 [00:00<?, ?it/s]"
      ]
     },
     "metadata": {},
     "output_type": "display_data"
    }
   ],
   "source": [
    "for i in tqdm(range(len(roadsv2))):\n",
    "    start_p = sall.loc[i].iloc[0].cls\n",
    "    end_p = sall.loc[i].iloc[1].cls\n",
    "    # break\n",
    "    roadsv2.loc[i, 'start2'] = start_p\n",
    "    roadsv2.loc[i, 'end2'] = end_p"
   ]
  },
  {
   "cell_type": "code",
   "execution_count": 307,
   "metadata": {},
   "outputs": [],
   "source": [
    "rds = roadsv2.loc[(roadsv2.start2!=-1) & (roadsv2.end2!=-1)]"
   ]
  },
  {
   "cell_type": "code",
   "execution_count": 309,
   "metadata": {},
   "outputs": [],
   "source": [
    "rds['weights'] = rds.apply(lambda a: pnts[a.start2].distance(pnts[a.end2]), axis=1)"
   ]
  },
  {
   "cell_type": "code",
   "execution_count": 315,
   "metadata": {},
   "outputs": [
    {
     "data": {
      "text/plain": [
       "0.020539932900730366"
      ]
     },
     "execution_count": 315,
     "metadata": {},
     "output_type": "execute_result"
    }
   ],
   "source": [
    "rds.weights.max()"
   ]
  },
  {
   "cell_type": "code",
   "execution_count": 323,
   "metadata": {},
   "outputs": [],
   "source": [
    "rds = rds.drop(['geometry'], axis=1)\n",
    "rds.rename({'start2':'start_id', 'end2':'end_id'}, axis=1, inplace=True)\n",
    "rds.to_pickle('roadsfornx.pkl')\n",
    "pnts.to_pickle('reps.pkl')"
   ]
  },
  {
   "cell_type": "code",
   "execution_count": 325,
   "metadata": {},
   "outputs": [],
   "source": [
    "rds.rename({'start2':'start_id', 'end2':'end_id'}, axis=1, inplace=True)"
   ]
  },
  {
   "cell_type": "code",
   "execution_count": 327,
   "metadata": {},
   "outputs": [],
   "source": [
    "rds.to_pickle('roadsfornx.pkl')"
   ]
  },
  {
   "cell_type": "code",
   "execution_count": 317,
   "metadata": {},
   "outputs": [],
   "source": [
    "import networkx as nx\n",
    "\n",
    "G = nx.DiGraph()\n"
   ]
  },
  {
   "cell_type": "code",
   "execution_count": 329,
   "metadata": {},
   "outputs": [],
   "source": [
    "pnts.to_pickle('reps.pkl')"
   ]
  },
  {
   "cell_type": "code",
   "execution_count": 318,
   "metadata": {},
   "outputs": [],
   "source": [
    "G.add_nodes_from(range(len(pnts)))"
   ]
  },
  {
   "cell_type": "code",
   "execution_count": 319,
   "metadata": {},
   "outputs": [
    {
     "data": {
      "application/vnd.jupyter.widget-view+json": {
       "model_id": "43275fc912ef49149d5ba86b3f990fef",
       "version_major": 2,
       "version_minor": 0
      },
      "text/plain": [
       "  0%|          | 0/13630 [00:00<?, ?it/s]"
      ]
     },
     "metadata": {},
     "output_type": "display_data"
    }
   ],
   "source": [
    "for a,b,c in tqdm(rds[['start2','end2', 'weights']].values):\n",
    "    G.add_edge(a, b, weight=c)\n",
    "# G.remove_node(-1)"
   ]
  },
  {
   "cell_type": "code",
   "execution_count": 299,
   "metadata": {},
   "outputs": [
    {
     "data": {
      "text/html": [
       "<div>\n",
       "<style scoped>\n",
       "    .dataframe tbody tr th:only-of-type {\n",
       "        vertical-align: middle;\n",
       "    }\n",
       "\n",
       "    .dataframe tbody tr th {\n",
       "        vertical-align: top;\n",
       "    }\n",
       "\n",
       "    .dataframe thead th {\n",
       "        text-align: right;\n",
       "    }\n",
       "</style>\n",
       "<table border=\"1\" class=\"dataframe\">\n",
       "  <thead>\n",
       "    <tr style=\"text-align: right;\">\n",
       "      <th></th>\n",
       "      <th>trafdir</th>\n",
       "      <th>geometry</th>\n",
       "      <th>start</th>\n",
       "      <th>end</th>\n",
       "      <th>connections</th>\n",
       "      <th>start2</th>\n",
       "      <th>end2</th>\n",
       "    </tr>\n",
       "  </thead>\n",
       "  <tbody>\n",
       "    <tr>\n",
       "      <th>226</th>\n",
       "      <td>TF</td>\n",
       "      <td>POINT (-73.92760 40.78104)</td>\n",
       "      <td>POINT (-73.92565 40.77843)</td>\n",
       "      <td>POINT (-73.92760 40.78104)</td>\n",
       "      <td>[670, 1679]</td>\n",
       "      <td>-1</td>\n",
       "      <td>639</td>\n",
       "    </tr>\n",
       "    <tr>\n",
       "      <th>441</th>\n",
       "      <td>FT</td>\n",
       "      <td>POINT (-73.92842 40.84708)</td>\n",
       "      <td>POINT (-73.92728 40.84655)</td>\n",
       "      <td>POINT (-73.92842 40.84708)</td>\n",
       "      <td>[1505, 1689, 3693, 4818, 6089]</td>\n",
       "      <td>-1</td>\n",
       "      <td>1373</td>\n",
       "    </tr>\n",
       "    <tr>\n",
       "      <th>515</th>\n",
       "      <td>TF</td>\n",
       "      <td>POINT (-73.99913 40.70798)</td>\n",
       "      <td>POINT (-73.99457 40.70438)</td>\n",
       "      <td>POINT (-73.99913 40.70798)</td>\n",
       "      <td>[8697]</td>\n",
       "      <td>-1</td>\n",
       "      <td>5219</td>\n",
       "    </tr>\n",
       "    <tr>\n",
       "      <th>1113</th>\n",
       "      <td>TF</td>\n",
       "      <td>POINT (-74.00843 40.68602)</td>\n",
       "      <td>POINT (-74.00644 40.68343)</td>\n",
       "      <td>POINT (-74.00843 40.68602)</td>\n",
       "      <td>[1079]</td>\n",
       "      <td>-1</td>\n",
       "      <td>1008</td>\n",
       "    </tr>\n",
       "    <tr>\n",
       "      <th>1451</th>\n",
       "      <td>TF</td>\n",
       "      <td>POINT (-73.99177 40.70956)</td>\n",
       "      <td>POINT (-73.98931 40.70515)</td>\n",
       "      <td>POINT (-73.99177 40.70956)</td>\n",
       "      <td>[38, 1082, 2798, 5629, 6865]</td>\n",
       "      <td>-1</td>\n",
       "      <td>38</td>\n",
       "    </tr>\n",
       "    <tr>\n",
       "      <th>2599</th>\n",
       "      <td>TF</td>\n",
       "      <td>POINT (-73.94129 40.76966)</td>\n",
       "      <td>POINT (-73.94087 40.76994)</td>\n",
       "      <td>POINT (-73.94129 40.76966)</td>\n",
       "      <td>[5462, 9627]</td>\n",
       "      <td>-1</td>\n",
       "      <td>3954</td>\n",
       "    </tr>\n",
       "    <tr>\n",
       "      <th>2805</th>\n",
       "      <td>TF</td>\n",
       "      <td>POINT (-73.96812 40.74773)</td>\n",
       "      <td>POINT (-73.96118 40.74301)</td>\n",
       "      <td>POINT (-73.96812 40.74773)</td>\n",
       "      <td>[512, 2709]</td>\n",
       "      <td>-1</td>\n",
       "      <td>491</td>\n",
       "    </tr>\n",
       "    <tr>\n",
       "      <th>3116</th>\n",
       "      <td>TF</td>\n",
       "      <td>POINT (-74.01161 40.72607)</td>\n",
       "      <td>POINT (-74.02151 40.72749)</td>\n",
       "      <td>POINT (-74.01161 40.72607)</td>\n",
       "      <td>[134]</td>\n",
       "      <td>-1</td>\n",
       "      <td>134</td>\n",
       "    </tr>\n",
       "    <tr>\n",
       "      <th>3442</th>\n",
       "      <td>FT</td>\n",
       "      <td>POINT (-74.01568 40.70126)</td>\n",
       "      <td>POINT (-74.01448 40.69780)</td>\n",
       "      <td>POINT (-74.01568 40.70126)</td>\n",
       "      <td>[8421]</td>\n",
       "      <td>-1</td>\n",
       "      <td>5114</td>\n",
       "    </tr>\n",
       "    <tr>\n",
       "      <th>3527</th>\n",
       "      <td>FT</td>\n",
       "      <td>POINT (-73.97666 40.77674)</td>\n",
       "      <td>POINT (-73.97627 40.77724)</td>\n",
       "      <td>POINT (-73.97666 40.77674)</td>\n",
       "      <td>[11464]</td>\n",
       "      <td>-1</td>\n",
       "      <td>6042</td>\n",
       "    </tr>\n",
       "    <tr>\n",
       "      <th>5234</th>\n",
       "      <td>TF</td>\n",
       "      <td>POINT (-73.92933 40.84580)</td>\n",
       "      <td>POINT (-73.92805 40.84546)</td>\n",
       "      <td>POINT (-73.92933 40.84580)</td>\n",
       "      <td>[1368, 6265, 6942, 7807]</td>\n",
       "      <td>-1</td>\n",
       "      <td>1254</td>\n",
       "    </tr>\n",
       "    <tr>\n",
       "      <th>6510</th>\n",
       "      <td>FT</td>\n",
       "      <td>POINT (-73.96368 40.80322)</td>\n",
       "      <td>POINT (-73.96318 40.80390)</td>\n",
       "      <td>POINT (-73.96368 40.80322)</td>\n",
       "      <td>[]</td>\n",
       "      <td>-1</td>\n",
       "      <td>-1</td>\n",
       "    </tr>\n",
       "    <tr>\n",
       "      <th>6911</th>\n",
       "      <td>TF</td>\n",
       "      <td>POINT (-73.93364 40.80708)</td>\n",
       "      <td>POINT (-73.93326 40.80724)</td>\n",
       "      <td>POINT (-73.93364 40.80708)</td>\n",
       "      <td>[3323, 4581, 5041]</td>\n",
       "      <td>-1</td>\n",
       "      <td>858</td>\n",
       "    </tr>\n",
       "    <tr>\n",
       "      <th>6968</th>\n",
       "      <td>FT</td>\n",
       "      <td>POINT (-73.92856 40.80369)</td>\n",
       "      <td>POINT (-73.92889 40.80353)</td>\n",
       "      <td>POINT (-73.92856 40.80369)</td>\n",
       "      <td>[3865]</td>\n",
       "      <td>-1</td>\n",
       "      <td>3054</td>\n",
       "    </tr>\n",
       "    <tr>\n",
       "      <th>7895</th>\n",
       "      <td>FT</td>\n",
       "      <td>POINT (-73.91985 40.79790)</td>\n",
       "      <td>POINT (-73.91915 40.79884)</td>\n",
       "      <td>POINT (-73.91985 40.79790)</td>\n",
       "      <td>[2016, 8194]</td>\n",
       "      <td>-1</td>\n",
       "      <td>1798</td>\n",
       "    </tr>\n",
       "    <tr>\n",
       "      <th>7987</th>\n",
       "      <td>TF</td>\n",
       "      <td>POINT (-74.01214 40.69204)</td>\n",
       "      <td>POINT (-74.01241 40.69249)</td>\n",
       "      <td>POINT (-74.01214 40.69204)</td>\n",
       "      <td>[5177]</td>\n",
       "      <td>-1</td>\n",
       "      <td>3809</td>\n",
       "    </tr>\n",
       "  </tbody>\n",
       "</table>\n",
       "</div>"
      ],
      "text/plain": [
       "     trafdir                    geometry                       start  \\\n",
       "226       TF  POINT (-73.92760 40.78104)  POINT (-73.92565 40.77843)   \n",
       "441       FT  POINT (-73.92842 40.84708)  POINT (-73.92728 40.84655)   \n",
       "515       TF  POINT (-73.99913 40.70798)  POINT (-73.99457 40.70438)   \n",
       "1113      TF  POINT (-74.00843 40.68602)  POINT (-74.00644 40.68343)   \n",
       "1451      TF  POINT (-73.99177 40.70956)  POINT (-73.98931 40.70515)   \n",
       "2599      TF  POINT (-73.94129 40.76966)  POINT (-73.94087 40.76994)   \n",
       "2805      TF  POINT (-73.96812 40.74773)  POINT (-73.96118 40.74301)   \n",
       "3116      TF  POINT (-74.01161 40.72607)  POINT (-74.02151 40.72749)   \n",
       "3442      FT  POINT (-74.01568 40.70126)  POINT (-74.01448 40.69780)   \n",
       "3527      FT  POINT (-73.97666 40.77674)  POINT (-73.97627 40.77724)   \n",
       "5234      TF  POINT (-73.92933 40.84580)  POINT (-73.92805 40.84546)   \n",
       "6510      FT  POINT (-73.96368 40.80322)  POINT (-73.96318 40.80390)   \n",
       "6911      TF  POINT (-73.93364 40.80708)  POINT (-73.93326 40.80724)   \n",
       "6968      FT  POINT (-73.92856 40.80369)  POINT (-73.92889 40.80353)   \n",
       "7895      FT  POINT (-73.91985 40.79790)  POINT (-73.91915 40.79884)   \n",
       "7987      TF  POINT (-74.01214 40.69204)  POINT (-74.01241 40.69249)   \n",
       "\n",
       "                             end                     connections start2  end2  \n",
       "226   POINT (-73.92760 40.78104)                     [670, 1679]     -1   639  \n",
       "441   POINT (-73.92842 40.84708)  [1505, 1689, 3693, 4818, 6089]     -1  1373  \n",
       "515   POINT (-73.99913 40.70798)                          [8697]     -1  5219  \n",
       "1113  POINT (-74.00843 40.68602)                          [1079]     -1  1008  \n",
       "1451  POINT (-73.99177 40.70956)    [38, 1082, 2798, 5629, 6865]     -1    38  \n",
       "2599  POINT (-73.94129 40.76966)                    [5462, 9627]     -1  3954  \n",
       "2805  POINT (-73.96812 40.74773)                     [512, 2709]     -1   491  \n",
       "3116  POINT (-74.01161 40.72607)                           [134]     -1   134  \n",
       "3442  POINT (-74.01568 40.70126)                          [8421]     -1  5114  \n",
       "3527  POINT (-73.97666 40.77674)                         [11464]     -1  6042  \n",
       "5234  POINT (-73.92933 40.84580)        [1368, 6265, 6942, 7807]     -1  1254  \n",
       "6510  POINT (-73.96368 40.80322)                              []     -1    -1  \n",
       "6911  POINT (-73.93364 40.80708)              [3323, 4581, 5041]     -1   858  \n",
       "6968  POINT (-73.92856 40.80369)                          [3865]     -1  3054  \n",
       "7895  POINT (-73.91985 40.79790)                    [2016, 8194]     -1  1798  \n",
       "7987  POINT (-74.01214 40.69204)                          [5177]     -1  3809  "
      ]
     },
     "execution_count": 299,
     "metadata": {},
     "output_type": "execute_result"
    }
   ],
   "source": [
    "roadsv2.loc[roadsv2.start2==-1]"
   ]
  },
  {
   "cell_type": "code",
   "execution_count": 266,
   "metadata": {},
   "outputs": [
    {
     "name": "stdout",
     "output_type": "stream",
     "text": [
      "Collecting package metadata (current_repodata.json): done\n",
      "Solving environment: failed with initial frozen solve. Retrying with flexible solve.\n",
      "Solving environment: failed with repodata from current_repodata.json, will retry with next repodata source.\n",
      "Collecting package metadata (repodata.json): | ^C\n",
      "\\ "
     ]
    }
   ],
   "source": [
    "!conda install -c conda-forge networkx"
   ]
  },
  {
   "cell_type": "code",
   "execution_count": 297,
   "metadata": {},
   "outputs": [
    {
     "data": {
      "text/plain": [
       "cls\n",
       "0       POINT (-74.00826 40.74467)\n",
       "1       POINT (-73.96268 40.76072)\n",
       "2       POINT (-73.98391 40.71130)\n",
       "3       POINT (-73.94733 40.83089)\n",
       "4       POINT (-73.93419 40.81409)\n",
       "                   ...            \n",
       "6127    POINT (-73.93944 40.81262)\n",
       "6128    POINT (-74.00032 40.72258)\n",
       "6129    POINT (-73.95085 40.75520)\n",
       "6130    POINT (-73.94687 40.85059)\n",
       "6131    POINT (-73.96891 40.71249)\n",
       "Length: 6132, dtype: geometry"
      ]
     },
     "execution_count": 297,
     "metadata": {},
     "output_type": "execute_result"
    }
   ],
   "source": [
    "pnts"
   ]
  },
  {
   "cell_type": "code",
   "execution_count": 267,
   "metadata": {},
   "outputs": [
    {
     "ename": "ImportError",
     "evalue": "requires pygraphviz http://pygraphviz.github.io/",
     "output_type": "error",
     "traceback": [
      "\u001b[0;31m---------------------------------------------------------------------------\u001b[0m",
      "\u001b[0;31mModuleNotFoundError\u001b[0m                       Traceback (most recent call last)",
      "File \u001b[0;32m/opt/homebrew/Caskroom/miniforge/base/envs/gis/lib/python3.9/site-packages/networkx/drawing/nx_agraph.py:132\u001b[0m, in \u001b[0;36mto_agraph\u001b[0;34m(N)\u001b[0m\n\u001b[1;32m    131\u001b[0m \u001b[39mtry\u001b[39;00m:\n\u001b[0;32m--> 132\u001b[0m     \u001b[39mimport\u001b[39;00m \u001b[39mpygraphviz\u001b[39;00m\n\u001b[1;32m    133\u001b[0m \u001b[39mexcept\u001b[39;00m \u001b[39mImportError\u001b[39;00m \u001b[39mas\u001b[39;00m err:\n",
      "\u001b[0;31mModuleNotFoundError\u001b[0m: No module named 'pygraphviz'",
      "\nThe above exception was the direct cause of the following exception:\n",
      "\u001b[0;31mImportError\u001b[0m                               Traceback (most recent call last)",
      "\u001b[1;32m/Users/georgetheodoropoulos/Code/URF/roads.ipynb Cell 38'\u001b[0m in \u001b[0;36m<cell line: 1>\u001b[0;34m()\u001b[0m\n\u001b[0;32m----> <a href='vscode-notebook-cell:/Users/georgetheodoropoulos/Code/URF/roads.ipynb#ch0000041?line=0'>1</a>\u001b[0m A \u001b[39m=\u001b[39m nx\u001b[39m.\u001b[39;49mnx_agraph\u001b[39m.\u001b[39;49mto_agraph(G)  \u001b[39m# convert to a graphviz graph\u001b[39;00m\n\u001b[1;32m      <a href='vscode-notebook-cell:/Users/georgetheodoropoulos/Code/URF/roads.ipynb#ch0000041?line=1'>2</a>\u001b[0m A\u001b[39m.\u001b[39mlayout()  \u001b[39m# neato layout\u001b[39;00m\n\u001b[1;32m      <a href='vscode-notebook-cell:/Users/georgetheodoropoulos/Code/URF/roads.ipynb#ch0000041?line=2'>3</a>\u001b[0m A\u001b[39m.\u001b[39mdraw(\u001b[39m\"\u001b[39m\u001b[39mk5.ps\u001b[39m\u001b[39m\"\u001b[39m)\n",
      "File \u001b[0;32m/opt/homebrew/Caskroom/miniforge/base/envs/gis/lib/python3.9/site-packages/networkx/drawing/nx_agraph.py:134\u001b[0m, in \u001b[0;36mto_agraph\u001b[0;34m(N)\u001b[0m\n\u001b[1;32m    132\u001b[0m     \u001b[39mimport\u001b[39;00m \u001b[39mpygraphviz\u001b[39;00m\n\u001b[1;32m    133\u001b[0m \u001b[39mexcept\u001b[39;00m \u001b[39mImportError\u001b[39;00m \u001b[39mas\u001b[39;00m err:\n\u001b[0;32m--> 134\u001b[0m     \u001b[39mraise\u001b[39;00m \u001b[39mImportError\u001b[39;00m(\n\u001b[1;32m    135\u001b[0m         \u001b[39m\"\u001b[39m\u001b[39mrequires pygraphviz \u001b[39m\u001b[39m\"\u001b[39m \u001b[39m\"\u001b[39m\u001b[39mhttp://pygraphviz.github.io/\u001b[39m\u001b[39m\"\u001b[39m\n\u001b[1;32m    136\u001b[0m     ) \u001b[39mfrom\u001b[39;00m \u001b[39merr\u001b[39;00m\n\u001b[1;32m    137\u001b[0m directed \u001b[39m=\u001b[39m N\u001b[39m.\u001b[39mis_directed()\n\u001b[1;32m    138\u001b[0m strict \u001b[39m=\u001b[39m nx\u001b[39m.\u001b[39mnumber_of_selfloops(N) \u001b[39m==\u001b[39m \u001b[39m0\u001b[39m \u001b[39mand\u001b[39;00m \u001b[39mnot\u001b[39;00m N\u001b[39m.\u001b[39mis_multigraph()\n",
      "\u001b[0;31mImportError\u001b[0m: requires pygraphviz http://pygraphviz.github.io/"
     ]
    }
   ],
   "source": [
    "A = nx.nx_agraph.to_agraph(G)  # convert to a graphviz graph\n",
    "A.layout()  # neato layout\n",
    "A.draw(\"k5.ps\") "
   ]
  },
  {
   "cell_type": "code",
   "execution_count": 271,
   "metadata": {},
   "outputs": [
    {
     "name": "stdout",
     "output_type": "stream",
     "text": [
      "[0, 4429, 3016, 3715, 4794, 3550, 3535, 3671, 3835, 4991, 4914, 2750, 3074, 3284, 2795, 4739, 4628, 4221, 913, -1, 858, 1478, 918, 4066, 2745, 330, 4]\n"
     ]
    }
   ],
   "source": [
    "print(nx.shortest_path(G, source=0, target=4))"
   ]
  },
  {
   "cell_type": "code",
   "execution_count": 330,
   "metadata": {},
   "outputs": [
    {
     "data": {
      "text/plain": [
       "<networkx.classes.digraph.DiGraph at 0x2aa583c10>"
      ]
     },
     "execution_count": 330,
     "metadata": {},
     "output_type": "execute_result"
    }
   ],
   "source": [
    "G"
   ]
  },
  {
   "cell_type": "code",
   "execution_count": 331,
   "metadata": {},
   "outputs": [],
   "source": [
    "for i in range(10):\n",
    "\n",
    "    st, ed = pnts.distance(startsdf.iloc[i].geometry).argmin(), pnts.distance(stopsdf.iloc[i].geometry).argmin()\n",
    "    print(nx.shortest_path(G, source=st, target=ed, weight='weight'))\n",
    "    ls = LineString(pnts.loc[nx.shortest_path(G, source=st, target=ed, weight='weight')].geometry.tolist())\n",
    "    viz2(ls, startsdf.iloc[i:i+1], stopsdf.iloc[i:i+1])\n",
    "    input()\n",
    "    clear_output()\n"
   ]
  },
  {
   "cell_type": "code",
   "execution_count": 290,
   "metadata": {},
   "outputs": [],
   "source": [
    "from misc import viz2"
   ]
  },
  {
   "cell_type": "code",
   "execution_count": 332,
   "metadata": {},
   "outputs": [],
   "source": [
    "nx.write_gpickle(G, \"road_graph.gpickle\")"
   ]
  },
  {
   "cell_type": "code",
   "execution_count": 279,
   "metadata": {},
   "outputs": [],
   "source": [
    "df = pd.read_csv('data/train.csv')\n",
    "\n",
    "startsdf= gpd.GeoDataFrame(df[['id']], geometry=gpd.points_from_xy(df.pickup_longitude, df.pickup_latitude), crs=4326)\n",
    "stopsdf = gpd.GeoDataFrame(df[['id']], geometry=gpd.points_from_xy(df.dropoff_longitude, df.dropoff_latitude), crs=4326)\n",
    "\n",
    "path_to_data = gpd.datasets.get_path(\"nybb\")\n",
    "gdf = gpd.read_file(path_to_data)\n",
    "manh = gdf.loc[gdf.BoroName=='Manhattan'].to_crs(4326)\n",
    "\n",
    "# roads = gpd.read_file('data/nyc_roads/geo_export_05dcab6d-50ed-427f-aae3-61ecc2069210.shp', mask=manh)\n",
    "\n",
    "sind = gpd.tools.sjoin(startsdf, manh, op='within').index.tolist()\n",
    "eind = gpd.tools.sjoin(stopsdf, manh, op='within').index.tolist()\n",
    "df = df.loc[list(set(sind).intersection(set(eind)))]\n",
    "startsdf = gpd.GeoDataFrame(df[['id']], geometry=gpd.points_from_xy(df.pickup_longitude, df.pickup_latitude), crs=4326)\n",
    "stopsdf = gpd.GeoDataFrame(df[['id']], geometry=gpd.points_from_xy(df.dropoff_longitude, df.dropoff_latitude), crs=4326)"
   ]
  },
  {
   "cell_type": "code",
   "execution_count": null,
   "metadata": {},
   "outputs": [],
   "source": []
  }
 ],
 "metadata": {
  "kernelspec": {
   "display_name": "Python 3.9.12 64-bit ('gis': conda)",
   "language": "python",
   "name": "python3"
  },
  "language_info": {
   "codemirror_mode": {
    "name": "ipython",
    "version": 3
   },
   "file_extension": ".py",
   "mimetype": "text/x-python",
   "name": "python",
   "nbconvert_exporter": "python",
   "pygments_lexer": "ipython3",
   "version": "3.9.12"
  },
  "orig_nbformat": 4,
  "vscode": {
   "interpreter": {
    "hash": "181cf7ce640e07909df4a4f7727b604812905529a9d875b105185beeadae924e"
   }
  }
 },
 "nbformat": 4,
 "nbformat_minor": 2
}
